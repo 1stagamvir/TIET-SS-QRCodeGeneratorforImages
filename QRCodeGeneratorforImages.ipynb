{
  "nbformat": 4,
  "nbformat_minor": 0,
  "metadata": {
    "colab": {
      "provenance": [],
      "include_colab_link": true
    },
    "kernelspec": {
      "name": "python3",
      "display_name": "Python 3"
    },
    "language_info": {
      "name": "python"
    }
  },
  "cells": [
    {
      "cell_type": "markdown",
      "metadata": {
        "id": "view-in-github",
        "colab_type": "text"
      },
      "source": [
        "<a href=\"https://colab.research.google.com/github/1stagamvir/TIET-SS-QRCodeGeneratorforImages/blob/main/QRCodeGeneratorforImages.ipynb\" target=\"_parent\"><img src=\"https://colab.research.google.com/assets/colab-badge.svg\" alt=\"Open In Colab\"/></a>"
      ]
    },
    {
      "cell_type": "code",
      "metadata": {
        "colab": {
          "base_uri": "https://localhost:8080/"
        },
        "id": "84707c9d",
        "outputId": "34ad820b-919b-4b82-988c-74da93aa1222"
      },
      "source": [
        "!pip install qrcode Pillow"
      ],
      "execution_count": 2,
      "outputs": [
        {
          "output_type": "stream",
          "name": "stdout",
          "text": [
            "Collecting qrcode\n",
            "  Downloading qrcode-8.2-py3-none-any.whl.metadata (17 kB)\n",
            "Requirement already satisfied: Pillow in /usr/local/lib/python3.11/dist-packages (11.2.1)\n",
            "Downloading qrcode-8.2-py3-none-any.whl (45 kB)\n",
            "\u001b[?25l   \u001b[90m━━━━━━━━━━━━━━━━━━━━━━━━━━━━━━━━━━━━━━━━\u001b[0m \u001b[32m0.0/46.0 kB\u001b[0m \u001b[31m?\u001b[0m eta \u001b[36m-:--:--\u001b[0m\r\u001b[2K   \u001b[90m━━━━━━━━━━━━━━━━━━━━━━━━━━━━━━━━━━━━━━━━\u001b[0m \u001b[32m46.0/46.0 kB\u001b[0m \u001b[31m2.5 MB/s\u001b[0m eta \u001b[36m0:00:00\u001b[0m\n",
            "\u001b[?25hInstalling collected packages: qrcode\n",
            "Successfully installed qrcode-8.2\n"
          ]
        }
      ]
    },
    {
      "cell_type": "code",
      "execution_count": 5,
      "metadata": {
        "id": "nZjyDBKc_2GP"
      },
      "outputs": [],
      "source": [
        "import qrcode\n",
        "import PIL\n",
        "import qrcode.constants\n",
        "\n",
        "qr = qrcode.QRCode(version= 1, error_correction= qrcode.constants.ERROR_CORRECT_H, box_size=10, border=1)\n",
        "qr.add_data(\"https://in.pinterest.com/pin/474637248296873286/\")\n",
        "qr.make(fit=True)\n",
        "img= qr.make_image(fill_color = \"black\", back_color = \"white\")\n",
        "img.save(\"car.png\")"
      ]
    }
  ]
}